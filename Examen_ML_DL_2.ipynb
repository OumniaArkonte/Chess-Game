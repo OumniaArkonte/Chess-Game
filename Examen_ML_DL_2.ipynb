{
  "cells": [
    {
      "cell_type": "markdown",
      "metadata": {
        "id": "view-in-github",
        "colab_type": "text"
      },
      "source": [
        "<a href=\"https://colab.research.google.com/github/OumniaArkonte/Chess-Game/blob/master/Examen_ML_DL_2.ipynb\" target=\"_parent\"><img src=\"https://colab.research.google.com/assets/colab-badge.svg\" alt=\"Open In Colab\"/></a>"
      ]
    },
    {
      "cell_type": "markdown",
      "source": [
        "*   Nom : AIT ARKONTE\n",
        "*   Prénom :Oumnia\n",
        "*   Master : BIBDA\n",
        "\n",
        "# **Consignes**\n",
        "\n",
        "*   Répondez aux exercices puis allez dans \"File\" > \"Download\" > \"Download .ipynb\" pour télécharger l'exam corrigé.\n",
        "*   Renommez le fichier sous format : **Nom_Prenom_Master.ipynb**\n",
        "*   Envoyez le fichier .ipynb par courriel : badouchmohamed@gmail.com"
      ],
      "metadata": {
        "id": "EoVmDv6CQ9qP"
      }
    },
    {
      "cell_type": "markdown",
      "source": [
        "# **Exercice 1 : Régression Linéaire (5 points)**"
      ],
      "metadata": {
        "id": "K4jrVxdRMMoY"
      }
    },
    {
      "cell_type": "markdown",
      "source": [
        "Utilisez le dataset : from keras.datasets import boston_housing\n",
        "\n",
        "*   Implémentation (3 points) : Implémentez un modèle de régression linéaire pour prédire le prix des maisons en fonction de leurs caractéristiques (surface, nombre de chambres, etc.)\n",
        "*   Évaluation des Performances (1 points) : Évaluez les performances du modèle à l'aide de la métrique RMSE (Root Mean Squared Error)\n",
        "*   Analyse des Résultats (1 point) : Interprétez les coefficients du modèle et discutez de leur signification\n"
      ],
      "metadata": {
        "id": "Jawc2zoba39P"
      }
    },
    {
      "cell_type": "code",
      "execution_count": 2,
      "metadata": {
        "ExecuteTime": {
          "end_time": "2020-12-06T15:43:55.554499Z",
          "start_time": "2020-12-06T15:43:55.043211Z"
        },
        "collapsed": true,
        "id": "14h4ejQKFVe9",
        "colab": {
          "base_uri": "https://localhost:8080/"
        },
        "outputId": "54e002fe-27dd-4c6e-82db-50c9c16a38a0"
      },
      "outputs": [
        {
          "output_type": "stream",
          "name": "stdout",
          "text": [
            "Exercice 1 - DEBUT\n",
            "RMSE : 4.82\n",
            "                  Feature  Coefficient\n",
            "8           HighwayAccess     2.908149\n",
            "5                   AvgRM     2.396288\n",
            "1                      ZN     1.353090\n",
            "3               NearRiver     0.994353\n",
            "11   BlackPopulationIndex     0.819551\n",
            "6             BuildingAge     0.211195\n",
            "2            IndustryArea     0.027101\n",
            "0               CrimeRate    -1.107492\n",
            "9                     TAX    -1.957419\n",
            "10    StudentTeacherRatio    -1.982985\n",
            "4               Pollution    -2.401566\n",
            "7      EmploymentDistance    -3.471216\n",
            "12  LowerStatusPercentage    -4.027391\n",
            "\n",
            "Analyse des résultats :\n",
            "  * Caractéristiques avec coefficients positifs augmentent le prix des maisons.\n",
            "  * Caractéristiques avec coefficients négatifs diminuent le prix des maisons.\n",
            "- Un RMSE de 4.82 indique que les prédictions du modèle sont globalement précises.\n",
            "- Les coefficients indiquent l'impact de chaque caractéristique sur le prix des maisons :\n",
            "Exercice 1 - FIN\n"
          ]
        }
      ],
      "source": [
        "from keras.datasets import boston_housing\n",
        "import pandas as pd\n",
        "import numpy as np\n",
        "from sklearn.preprocessing import StandardScaler\n",
        "from sklearn.linear_model import LinearRegression\n",
        "from sklearn.metrics import mean_squared_error\n",
        "print('Exercice 1 - DEBUT')\n",
        "# Charger le dataset\n",
        "(x_train, y_train), (x_test, y_test) = boston_housing.load_data()\n",
        "\n",
        "# Convertir en DataFrame\n",
        "columns = [\n",
        "    \"CrimeRate\", \"ZN\", \"IndustryArea\", \"NearRiver\", \"Pollution\", \"AvgRM\", \"BuildingAge\",\n",
        "    \"EmploymentDistance\", \"HighwayAccess\", \"TAX\", \"StudentTeacherRatio\", \"BlackPopulationIndex\", \"LowerStatusPercentage\"\n",
        "]\n",
        "x_train_df = pd.DataFrame(x_train, columns=columns)\n",
        "x_test_df = pd.DataFrame(x_test, columns=columns)\n",
        "\n",
        "\n",
        "# Normaliser les caractéristiques\n",
        "scaler = StandardScaler()\n",
        "x_train_scaled = scaler.fit_transform(x_train)\n",
        "x_test_scaled = scaler.transform(x_test)\n",
        "\n",
        "\n",
        "# Créer et entraîner le modèle\n",
        "model = LinearRegression()\n",
        "model.fit(x_train_scaled, y_train)\n",
        "\n",
        "# Prédictions\n",
        "y_pred = model.predict(x_test_scaled)\n",
        "\n",
        "# RMSE\n",
        "rmse = np.sqrt(mean_squared_error(y_test, y_pred))\n",
        "print(f\"RMSE : {rmse:.2f}\")\n",
        "\n",
        "# Coefficients du modèle\n",
        "coefficients = pd.DataFrame({\n",
        "    \"Feature\": columns,\n",
        "    \"Coefficient\": model.coef_\n",
        "})\n",
        "\n",
        "# Tri des coefficients par ordre décroissant\n",
        "coefficients = coefficients.sort_values(by=\"Coefficient\", ascending=False)\n",
        "print(coefficients)\n",
        "\n",
        "\n",
        "# Analyse des résultats\n",
        "print(\"\\nAnalyse des résultats :\")\n",
        "print(\"  * Caractéristiques avec coefficients positifs augmentent le prix des maisons.\")\n",
        "print(\"  * Caractéristiques avec coefficients négatifs diminuent le prix des maisons.\")\n",
        "print(\"- Un RMSE de {:.2f} indique que les prédictions du modèle sont globalement précises.\".format(rmse))\n",
        "print(\"- Les coefficients indiquent l'impact de chaque caractéristique sur le prix des maisons :\")\n",
        "print('Exercice 1 - FIN')"
      ]
    },
    {
      "cell_type": "markdown",
      "source": [
        "# **Exercice 2 : Classification des Fleurs d'Iris avec un Réseau de Neurones (5 points)**"
      ],
      "metadata": {
        "id": "p3EFR0zlMYGh"
      }
    },
    {
      "cell_type": "markdown",
      "source": [
        "Utilisez le dataset : from keras.datasets import boston_housing\n",
        "\n",
        "*   Implémentation d'un Réseau de Neurones Simple (2 points) : Créez et entraînez un réseau de neurones simple pour classer les fleurs d'iris.\n",
        "*   Implémentation d'un Réseau de Neurones Complexe (2 points) : Créez et entraînez un réseau de neurones plus complexe (ajout de couches supplémentaires).\n",
        "*   Comparaison des Performances (1 points) : Comparez les performances des deux modèles en utilisant la précision et la F1-score."
      ],
      "metadata": {
        "id": "igpCLy8_bjjD"
      }
    },
    {
      "cell_type": "code",
      "source": [
        "from sklearn.datasets import load_iris\n",
        "from sklearn.model_selection import train_test_split\n",
        "from sklearn.preprocessing import OneHotEncoder, StandardScaler\n",
        "import numpy as np\n",
        "from tensorflow.keras.models import Sequential\n",
        "from tensorflow.keras.layers import Dense\n",
        "from tensorflow.keras.optimizers import Adam\n",
        "from sklearn.metrics import classification_report, f1_score, accuracy_score\n",
        "print('Exercice 2 - DEBUT')\n",
        "# Charger le dataset Iris\n",
        "iris = load_iris()\n",
        "X = iris.data\n",
        "y = iris.target\n",
        "\n",
        "# Normaliser les caractéristiques\n",
        "scaler = StandardScaler()\n",
        "X = scaler.fit_transform(X)\n",
        "\n",
        "# One-hot encoding pour les labels\n",
        "encoder = OneHotEncoder(sparse_output=False)\n",
        "y = encoder.fit_transform(y.reshape(-1, 1))\n",
        "\n",
        "# Diviser les données en train/test\n",
        "X_train, X_test, y_train, y_test = train_test_split(X, y, test_size=0.2, random_state=42)\n",
        "\n",
        "\n",
        "#  modèle simple\n",
        "model_simple = Sequential([\n",
        "    Dense(10, activation='relu', input_shape=(X_train.shape[1],)),\n",
        "    Dense(3, activation='softmax')  # 3 classes pour les fleurs d'Iris\n",
        "])\n",
        "\n",
        "# Compiler le modèle\n",
        "model_simple.compile(optimizer=Adam(learning_rate=0.01),\n",
        "                     loss='categorical_crossentropy',\n",
        "                     metrics=['accuracy'])\n",
        "\n",
        "# Entraîner le modèle\n",
        "history_simple = model_simple.fit(X_train, y_train, epochs=50, batch_size=10, verbose=0, validation_split=0.2)\n",
        "\n",
        "\n",
        "# modèle complexe\n",
        "model_complex = Sequential([\n",
        "    Dense(64, activation='relu', input_shape=(X_train.shape[1],)),\n",
        "    Dense(32, activation='relu'),\n",
        "    Dense(16, activation='relu'),\n",
        "    Dense(3, activation='softmax')\n",
        "])\n",
        "\n",
        "# Compiler le modèle\n",
        "model_complex.compile(optimizer=Adam(learning_rate=0.01),\n",
        "                      loss='categorical_crossentropy',\n",
        "                      metrics=['accuracy'])\n",
        "\n",
        "# Entraîner le modèle\n",
        "history_complex = model_complex.fit(X_train, y_train, epochs=50, batch_size=10, verbose=0, validation_split=0.2)\n",
        "\n",
        "\n",
        "\n",
        "# Prédictions pour chaque modèle\n",
        "y_pred_simple = np.argmax(model_simple.predict(X_test), axis=1)\n",
        "y_pred_complex = np.argmax(model_complex.predict(X_test), axis=1)\n",
        "y_test_labels = np.argmax(y_test, axis=1)\n",
        "\n",
        "# Performance du modèle simple\n",
        "print(\"Modèle Simple\")\n",
        "print(classification_report(y_test_labels, y_pred_simple))\n",
        "\n",
        "# Performance du modèle complexe\n",
        "print(\"\\nModèle Complexe\")\n",
        "print(classification_report(y_test_labels, y_pred_complex))\n",
        "\n",
        "# Comparaison des scores\n",
        "accuracy_simple = accuracy_score(y_test_labels, y_pred_simple)\n",
        "accuracy_complex = accuracy_score(y_test_labels, y_pred_complex)\n",
        "f1_simple = f1_score(y_test_labels, y_pred_simple, average='weighted')\n",
        "f1_complex = f1_score(y_test_labels, y_pred_complex, average='weighted')\n",
        "\n",
        "print(f\"\\nComparaison des modèles :\")\n",
        "print(f\"Précision - Modèle Simple : {accuracy_simple:.2f}, Modèle Complexe : {accuracy_complex:.2f}\")\n",
        "print(f\"F1-Score - Modèle Simple : {f1_simple:.2f}, Modèle Complexe : {f1_complex:.2f}\")\n",
        "\n",
        "\n",
        "print('Exercice 2 - FIN')"
      ],
      "metadata": {
        "id": "9Kl9D6rEb8hB",
        "colab": {
          "base_uri": "https://localhost:8080/"
        },
        "outputId": "661d1b5d-a62c-4ef7-8ca0-f90a10fd4d71"
      },
      "execution_count": 9,
      "outputs": [
        {
          "output_type": "stream",
          "name": "stdout",
          "text": [
            "Exercice 2 - DEBUT\n"
          ]
        },
        {
          "output_type": "stream",
          "name": "stderr",
          "text": [
            "/usr/local/lib/python3.10/dist-packages/keras/src/layers/core/dense.py:87: UserWarning: Do not pass an `input_shape`/`input_dim` argument to a layer. When using Sequential models, prefer using an `Input(shape)` object as the first layer in the model instead.\n",
            "  super().__init__(activity_regularizer=activity_regularizer, **kwargs)\n"
          ]
        },
        {
          "output_type": "stream",
          "name": "stdout",
          "text": [
            "\u001b[1m1/1\u001b[0m \u001b[32m━━━━━━━━━━━━━━━━━━━━\u001b[0m\u001b[37m\u001b[0m \u001b[1m0s\u001b[0m 88ms/step\n",
            "\u001b[1m1/1\u001b[0m \u001b[32m━━━━━━━━━━━━━━━━━━━━\u001b[0m\u001b[37m\u001b[0m \u001b[1m0s\u001b[0m 108ms/step\n",
            "Modèle Simple\n",
            "              precision    recall  f1-score   support\n",
            "\n",
            "           0       1.00      1.00      1.00        10\n",
            "           1       1.00      0.89      0.94         9\n",
            "           2       0.92      1.00      0.96        11\n",
            "\n",
            "    accuracy                           0.97        30\n",
            "   macro avg       0.97      0.96      0.97        30\n",
            "weighted avg       0.97      0.97      0.97        30\n",
            "\n",
            "\n",
            "Modèle Complexe\n",
            "              precision    recall  f1-score   support\n",
            "\n",
            "           0       1.00      1.00      1.00        10\n",
            "           1       1.00      1.00      1.00         9\n",
            "           2       1.00      1.00      1.00        11\n",
            "\n",
            "    accuracy                           1.00        30\n",
            "   macro avg       1.00      1.00      1.00        30\n",
            "weighted avg       1.00      1.00      1.00        30\n",
            "\n",
            "\n",
            "Comparaison des modèles :\n",
            "Précision - Modèle Simple : 0.97, Modèle Complexe : 1.00\n",
            "F1-Score - Modèle Simple : 0.97, Modèle Complexe : 1.00\n",
            "Exercice 2 - FIN\n"
          ]
        }
      ]
    },
    {
      "cell_type": "markdown",
      "source": [
        "# **Exercice 3 : Réseau de Neurones Convolutionnel (CNN) (5 points)**"
      ],
      "metadata": {
        "id": "gwnQyqgeMfSc"
      }
    },
    {
      "cell_type": "markdown",
      "source": [
        "Utilisez le dataset CIFAR10 : from keras.datasets import cifar10\n",
        "\n",
        "*   Implémentation (4 points) : Implémentez un réseau de neurones convolutionnel (CNN) pour classer des images de différentes catégories. Utilisez un ensemble de données d'images approprié (CIFAR-10).\n",
        "*   Évaluation des Performances (1 points) : Évaluez les performances du modèle en utilisant la précision globale sur l'ensemble de test."
      ],
      "metadata": {
        "id": "7VRt8Vacb_pA"
      }
    },
    {
      "cell_type": "code",
      "source": [
        "from keras.datasets import cifar10\n",
        "import tensorflow as tf\n",
        "from tensorflow.keras.models import Sequential\n",
        "from tensorflow.keras.layers import Conv2D, MaxPooling2D, Flatten, Dense, Dropout\n",
        "from tensorflow.keras.utils import to_categorical\n",
        "from tensorflow.keras.optimizers import Adam\n",
        "from sklearn.metrics import classification_report\n",
        "\n",
        "print('Exercice 3 - DEBUT')\n",
        "\n",
        "# Charger le dataset CIFAR-10\n",
        "(x_train, y_train), (x_test, y_test) = cifar10.load_data()\n",
        "\n",
        "# Définir les catégories avec ces indices\n",
        "selected_classes = [2, 3, 5, 7, 9]\n",
        "\n",
        "# Filtrage\n",
        "train_filter = [label[0] in selected_classes for label in y_train]\n",
        "test_filter = [label[0] in selected_classes for label in y_test]\n",
        "\n",
        "x_train, y_train = x_train[train_filter], y_train[train_filter]\n",
        "x_test, y_test = x_test[test_filter], y_test[test_filter]\n",
        "\n",
        "# les Réencoder\n",
        "class_mapping = {2: 0, 3: 1, 5: 2, 7: 3, 9: 4}\n",
        "y_train = to_categorical([class_mapping[label[0]] for label in y_train], 5)\n",
        "y_test = to_categorical([class_mapping[label[0]] for label in y_test], 5)\n",
        "\n",
        "# Normaliser les pixels\n",
        "x_train = x_train.astype('float32') / 255.0\n",
        "x_test = x_test.astype('float32') / 255.0\n",
        "\n",
        "# Définir le modèle CNN\n",
        "model = Sequential([\n",
        "    Conv2D(32, (3, 3), activation='relu', input_shape=(32, 32, 3)),\n",
        "    MaxPooling2D((2, 2)),\n",
        "    Conv2D(64, (3, 3), activation='relu'),\n",
        "    MaxPooling2D((2, 2)),\n",
        "    Conv2D(128, (3, 3), activation='relu'),\n",
        "    Flatten(),\n",
        "    Dense(128, activation='relu'),\n",
        "    Dropout(0.5),\n",
        "    Dense(5, activation='softmax')  # 5 classes sélectionnées\n",
        "])\n",
        "\n",
        "# Compiler le modèle\n",
        "model.compile(optimizer=Adam(learning_rate=0.001),\n",
        "              loss='categorical_crossentropy',\n",
        "              metrics=['accuracy'])\n",
        "\n",
        "# Résumé du modèle\n",
        "model.summary()\n",
        "\n",
        "# Entraînement du modèle\n",
        "history = model.fit(x_train, y_train, epochs=20, batch_size=64, validation_split=0.2, verbose=1)\n",
        "\n",
        "# Évaluer le modèle\n",
        "test_loss, test_accuracy = model.evaluate(x_test, y_test, verbose=0)\n",
        "print(f\"Précision sur l'ensemble de test : {test_accuracy:.2f}\")\n",
        "\n",
        "# Prédictions sur l'ensemble de test\n",
        "y_pred = model.predict(x_test)\n",
        "y_pred_classes = y_pred.argmax(axis=1)\n",
        "y_test_classes = y_test.argmax(axis=1)\n",
        "\n",
        "# Rapport de classification\n",
        "print(\"\\nRapport de classification :\")\n",
        "print(classification_report(y_test_classes, y_pred_classes, target_names=[\n",
        "    \"Bird\", \"Cat\", \"Dog\", \"Horse\", \"Truck\"\n",
        "]))\n",
        "\n",
        "print('Exercice 3 - FIN')\n"
      ],
      "metadata": {
        "id": "3DEm1-4ScQQJ",
        "colab": {
          "base_uri": "https://localhost:8080/",
          "height": 1000
        },
        "outputId": "518d0847-b576-4438-d86c-1f88ef4b2b63"
      },
      "execution_count": 11,
      "outputs": [
        {
          "output_type": "stream",
          "name": "stdout",
          "text": [
            "Exercice 3 - DEBUT\n"
          ]
        },
        {
          "output_type": "stream",
          "name": "stderr",
          "text": [
            "/usr/local/lib/python3.10/dist-packages/keras/src/layers/convolutional/base_conv.py:107: UserWarning: Do not pass an `input_shape`/`input_dim` argument to a layer. When using Sequential models, prefer using an `Input(shape)` object as the first layer in the model instead.\n",
            "  super().__init__(activity_regularizer=activity_regularizer, **kwargs)\n"
          ]
        },
        {
          "output_type": "display_data",
          "data": {
            "text/plain": [
              "\u001b[1mModel: \"sequential_13\"\u001b[0m\n"
            ],
            "text/html": [
              "<pre style=\"white-space:pre;overflow-x:auto;line-height:normal;font-family:Menlo,'DejaVu Sans Mono',consolas,'Courier New',monospace\"><span style=\"font-weight: bold\">Model: \"sequential_13\"</span>\n",
              "</pre>\n"
            ]
          },
          "metadata": {}
        },
        {
          "output_type": "display_data",
          "data": {
            "text/plain": [
              "┏━━━━━━━━━━━━━━━━━━━━━━━━━━━━━━━━━━━━━━┳━━━━━━━━━━━━━━━━━━━━━━━━━━━━━┳━━━━━━━━━━━━━━━━━┓\n",
              "┃\u001b[1m \u001b[0m\u001b[1mLayer (type)                        \u001b[0m\u001b[1m \u001b[0m┃\u001b[1m \u001b[0m\u001b[1mOutput Shape               \u001b[0m\u001b[1m \u001b[0m┃\u001b[1m \u001b[0m\u001b[1m        Param #\u001b[0m\u001b[1m \u001b[0m┃\n",
              "┡━━━━━━━━━━━━━━━━━━━━━━━━━━━━━━━━━━━━━━╇━━━━━━━━━━━━━━━━━━━━━━━━━━━━━╇━━━━━━━━━━━━━━━━━┩\n",
              "│ conv2d_3 (\u001b[38;5;33mConv2D\u001b[0m)                    │ (\u001b[38;5;45mNone\u001b[0m, \u001b[38;5;34m30\u001b[0m, \u001b[38;5;34m30\u001b[0m, \u001b[38;5;34m32\u001b[0m)          │             \u001b[38;5;34m896\u001b[0m │\n",
              "├──────────────────────────────────────┼─────────────────────────────┼─────────────────┤\n",
              "│ max_pooling2d_2 (\u001b[38;5;33mMaxPooling2D\u001b[0m)       │ (\u001b[38;5;45mNone\u001b[0m, \u001b[38;5;34m15\u001b[0m, \u001b[38;5;34m15\u001b[0m, \u001b[38;5;34m32\u001b[0m)          │               \u001b[38;5;34m0\u001b[0m │\n",
              "├──────────────────────────────────────┼─────────────────────────────┼─────────────────┤\n",
              "│ conv2d_4 (\u001b[38;5;33mConv2D\u001b[0m)                    │ (\u001b[38;5;45mNone\u001b[0m, \u001b[38;5;34m13\u001b[0m, \u001b[38;5;34m13\u001b[0m, \u001b[38;5;34m64\u001b[0m)          │          \u001b[38;5;34m18,496\u001b[0m │\n",
              "├──────────────────────────────────────┼─────────────────────────────┼─────────────────┤\n",
              "│ max_pooling2d_3 (\u001b[38;5;33mMaxPooling2D\u001b[0m)       │ (\u001b[38;5;45mNone\u001b[0m, \u001b[38;5;34m6\u001b[0m, \u001b[38;5;34m6\u001b[0m, \u001b[38;5;34m64\u001b[0m)            │               \u001b[38;5;34m0\u001b[0m │\n",
              "├──────────────────────────────────────┼─────────────────────────────┼─────────────────┤\n",
              "│ conv2d_5 (\u001b[38;5;33mConv2D\u001b[0m)                    │ (\u001b[38;5;45mNone\u001b[0m, \u001b[38;5;34m4\u001b[0m, \u001b[38;5;34m4\u001b[0m, \u001b[38;5;34m128\u001b[0m)           │          \u001b[38;5;34m73,856\u001b[0m │\n",
              "├──────────────────────────────────────┼─────────────────────────────┼─────────────────┤\n",
              "│ flatten_1 (\u001b[38;5;33mFlatten\u001b[0m)                  │ (\u001b[38;5;45mNone\u001b[0m, \u001b[38;5;34m2048\u001b[0m)                │               \u001b[38;5;34m0\u001b[0m │\n",
              "├──────────────────────────────────────┼─────────────────────────────┼─────────────────┤\n",
              "│ dense_38 (\u001b[38;5;33mDense\u001b[0m)                     │ (\u001b[38;5;45mNone\u001b[0m, \u001b[38;5;34m128\u001b[0m)                 │         \u001b[38;5;34m262,272\u001b[0m │\n",
              "├──────────────────────────────────────┼─────────────────────────────┼─────────────────┤\n",
              "│ dropout_1 (\u001b[38;5;33mDropout\u001b[0m)                  │ (\u001b[38;5;45mNone\u001b[0m, \u001b[38;5;34m128\u001b[0m)                 │               \u001b[38;5;34m0\u001b[0m │\n",
              "├──────────────────────────────────────┼─────────────────────────────┼─────────────────┤\n",
              "│ dense_39 (\u001b[38;5;33mDense\u001b[0m)                     │ (\u001b[38;5;45mNone\u001b[0m, \u001b[38;5;34m5\u001b[0m)                   │             \u001b[38;5;34m645\u001b[0m │\n",
              "└──────────────────────────────────────┴─────────────────────────────┴─────────────────┘\n"
            ],
            "text/html": [
              "<pre style=\"white-space:pre;overflow-x:auto;line-height:normal;font-family:Menlo,'DejaVu Sans Mono',consolas,'Courier New',monospace\">┏━━━━━━━━━━━━━━━━━━━━━━━━━━━━━━━━━━━━━━┳━━━━━━━━━━━━━━━━━━━━━━━━━━━━━┳━━━━━━━━━━━━━━━━━┓\n",
              "┃<span style=\"font-weight: bold\"> Layer (type)                         </span>┃<span style=\"font-weight: bold\"> Output Shape                </span>┃<span style=\"font-weight: bold\">         Param # </span>┃\n",
              "┡━━━━━━━━━━━━━━━━━━━━━━━━━━━━━━━━━━━━━━╇━━━━━━━━━━━━━━━━━━━━━━━━━━━━━╇━━━━━━━━━━━━━━━━━┩\n",
              "│ conv2d_3 (<span style=\"color: #0087ff; text-decoration-color: #0087ff\">Conv2D</span>)                    │ (<span style=\"color: #00d7ff; text-decoration-color: #00d7ff\">None</span>, <span style=\"color: #00af00; text-decoration-color: #00af00\">30</span>, <span style=\"color: #00af00; text-decoration-color: #00af00\">30</span>, <span style=\"color: #00af00; text-decoration-color: #00af00\">32</span>)          │             <span style=\"color: #00af00; text-decoration-color: #00af00\">896</span> │\n",
              "├──────────────────────────────────────┼─────────────────────────────┼─────────────────┤\n",
              "│ max_pooling2d_2 (<span style=\"color: #0087ff; text-decoration-color: #0087ff\">MaxPooling2D</span>)       │ (<span style=\"color: #00d7ff; text-decoration-color: #00d7ff\">None</span>, <span style=\"color: #00af00; text-decoration-color: #00af00\">15</span>, <span style=\"color: #00af00; text-decoration-color: #00af00\">15</span>, <span style=\"color: #00af00; text-decoration-color: #00af00\">32</span>)          │               <span style=\"color: #00af00; text-decoration-color: #00af00\">0</span> │\n",
              "├──────────────────────────────────────┼─────────────────────────────┼─────────────────┤\n",
              "│ conv2d_4 (<span style=\"color: #0087ff; text-decoration-color: #0087ff\">Conv2D</span>)                    │ (<span style=\"color: #00d7ff; text-decoration-color: #00d7ff\">None</span>, <span style=\"color: #00af00; text-decoration-color: #00af00\">13</span>, <span style=\"color: #00af00; text-decoration-color: #00af00\">13</span>, <span style=\"color: #00af00; text-decoration-color: #00af00\">64</span>)          │          <span style=\"color: #00af00; text-decoration-color: #00af00\">18,496</span> │\n",
              "├──────────────────────────────────────┼─────────────────────────────┼─────────────────┤\n",
              "│ max_pooling2d_3 (<span style=\"color: #0087ff; text-decoration-color: #0087ff\">MaxPooling2D</span>)       │ (<span style=\"color: #00d7ff; text-decoration-color: #00d7ff\">None</span>, <span style=\"color: #00af00; text-decoration-color: #00af00\">6</span>, <span style=\"color: #00af00; text-decoration-color: #00af00\">6</span>, <span style=\"color: #00af00; text-decoration-color: #00af00\">64</span>)            │               <span style=\"color: #00af00; text-decoration-color: #00af00\">0</span> │\n",
              "├──────────────────────────────────────┼─────────────────────────────┼─────────────────┤\n",
              "│ conv2d_5 (<span style=\"color: #0087ff; text-decoration-color: #0087ff\">Conv2D</span>)                    │ (<span style=\"color: #00d7ff; text-decoration-color: #00d7ff\">None</span>, <span style=\"color: #00af00; text-decoration-color: #00af00\">4</span>, <span style=\"color: #00af00; text-decoration-color: #00af00\">4</span>, <span style=\"color: #00af00; text-decoration-color: #00af00\">128</span>)           │          <span style=\"color: #00af00; text-decoration-color: #00af00\">73,856</span> │\n",
              "├──────────────────────────────────────┼─────────────────────────────┼─────────────────┤\n",
              "│ flatten_1 (<span style=\"color: #0087ff; text-decoration-color: #0087ff\">Flatten</span>)                  │ (<span style=\"color: #00d7ff; text-decoration-color: #00d7ff\">None</span>, <span style=\"color: #00af00; text-decoration-color: #00af00\">2048</span>)                │               <span style=\"color: #00af00; text-decoration-color: #00af00\">0</span> │\n",
              "├──────────────────────────────────────┼─────────────────────────────┼─────────────────┤\n",
              "│ dense_38 (<span style=\"color: #0087ff; text-decoration-color: #0087ff\">Dense</span>)                     │ (<span style=\"color: #00d7ff; text-decoration-color: #00d7ff\">None</span>, <span style=\"color: #00af00; text-decoration-color: #00af00\">128</span>)                 │         <span style=\"color: #00af00; text-decoration-color: #00af00\">262,272</span> │\n",
              "├──────────────────────────────────────┼─────────────────────────────┼─────────────────┤\n",
              "│ dropout_1 (<span style=\"color: #0087ff; text-decoration-color: #0087ff\">Dropout</span>)                  │ (<span style=\"color: #00d7ff; text-decoration-color: #00d7ff\">None</span>, <span style=\"color: #00af00; text-decoration-color: #00af00\">128</span>)                 │               <span style=\"color: #00af00; text-decoration-color: #00af00\">0</span> │\n",
              "├──────────────────────────────────────┼─────────────────────────────┼─────────────────┤\n",
              "│ dense_39 (<span style=\"color: #0087ff; text-decoration-color: #0087ff\">Dense</span>)                     │ (<span style=\"color: #00d7ff; text-decoration-color: #00d7ff\">None</span>, <span style=\"color: #00af00; text-decoration-color: #00af00\">5</span>)                   │             <span style=\"color: #00af00; text-decoration-color: #00af00\">645</span> │\n",
              "└──────────────────────────────────────┴─────────────────────────────┴─────────────────┘\n",
              "</pre>\n"
            ]
          },
          "metadata": {}
        },
        {
          "output_type": "display_data",
          "data": {
            "text/plain": [
              "\u001b[1m Total params: \u001b[0m\u001b[38;5;34m356,165\u001b[0m (1.36 MB)\n"
            ],
            "text/html": [
              "<pre style=\"white-space:pre;overflow-x:auto;line-height:normal;font-family:Menlo,'DejaVu Sans Mono',consolas,'Courier New',monospace\"><span style=\"font-weight: bold\"> Total params: </span><span style=\"color: #00af00; text-decoration-color: #00af00\">356,165</span> (1.36 MB)\n",
              "</pre>\n"
            ]
          },
          "metadata": {}
        },
        {
          "output_type": "display_data",
          "data": {
            "text/plain": [
              "\u001b[1m Trainable params: \u001b[0m\u001b[38;5;34m356,165\u001b[0m (1.36 MB)\n"
            ],
            "text/html": [
              "<pre style=\"white-space:pre;overflow-x:auto;line-height:normal;font-family:Menlo,'DejaVu Sans Mono',consolas,'Courier New',monospace\"><span style=\"font-weight: bold\"> Trainable params: </span><span style=\"color: #00af00; text-decoration-color: #00af00\">356,165</span> (1.36 MB)\n",
              "</pre>\n"
            ]
          },
          "metadata": {}
        },
        {
          "output_type": "display_data",
          "data": {
            "text/plain": [
              "\u001b[1m Non-trainable params: \u001b[0m\u001b[38;5;34m0\u001b[0m (0.00 B)\n"
            ],
            "text/html": [
              "<pre style=\"white-space:pre;overflow-x:auto;line-height:normal;font-family:Menlo,'DejaVu Sans Mono',consolas,'Courier New',monospace\"><span style=\"font-weight: bold\"> Non-trainable params: </span><span style=\"color: #00af00; text-decoration-color: #00af00\">0</span> (0.00 B)\n",
              "</pre>\n"
            ]
          },
          "metadata": {}
        },
        {
          "output_type": "stream",
          "name": "stdout",
          "text": [
            "Epoch 1/20\n",
            "\u001b[1m313/313\u001b[0m \u001b[32m━━━━━━━━━━━━━━━━━━━━\u001b[0m\u001b[37m\u001b[0m \u001b[1m7s\u001b[0m 14ms/step - accuracy: 0.3655 - loss: 1.4353 - val_accuracy: 0.5672 - val_loss: 1.0744\n",
            "Epoch 2/20\n",
            "\u001b[1m313/313\u001b[0m \u001b[32m━━━━━━━━━━━━━━━━━━━━\u001b[0m\u001b[37m\u001b[0m \u001b[1m1s\u001b[0m 4ms/step - accuracy: 0.5646 - loss: 1.0741 - val_accuracy: 0.6322 - val_loss: 0.9193\n",
            "Epoch 3/20\n",
            "\u001b[1m313/313\u001b[0m \u001b[32m━━━━━━━━━━━━━━━━━━━━\u001b[0m\u001b[37m\u001b[0m \u001b[1m1s\u001b[0m 4ms/step - accuracy: 0.6313 - loss: 0.9180 - val_accuracy: 0.6774 - val_loss: 0.8370\n",
            "Epoch 4/20\n",
            "\u001b[1m313/313\u001b[0m \u001b[32m━━━━━━━━━━━━━━━━━━━━\u001b[0m\u001b[37m\u001b[0m \u001b[1m2s\u001b[0m 5ms/step - accuracy: 0.6794 - loss: 0.8122 - val_accuracy: 0.6972 - val_loss: 0.7603\n",
            "Epoch 5/20\n",
            "\u001b[1m313/313\u001b[0m \u001b[32m━━━━━━━━━━━━━━━━━━━━\u001b[0m\u001b[37m\u001b[0m \u001b[1m2s\u001b[0m 5ms/step - accuracy: 0.7177 - loss: 0.7396 - val_accuracy: 0.7134 - val_loss: 0.7263\n",
            "Epoch 6/20\n",
            "\u001b[1m313/313\u001b[0m \u001b[32m━━━━━━━━━━━━━━━━━━━━\u001b[0m\u001b[37m\u001b[0m \u001b[1m1s\u001b[0m 4ms/step - accuracy: 0.7415 - loss: 0.6735 - val_accuracy: 0.7250 - val_loss: 0.6963\n",
            "Epoch 7/20\n",
            "\u001b[1m313/313\u001b[0m \u001b[32m━━━━━━━━━━━━━━━━━━━━\u001b[0m\u001b[37m\u001b[0m \u001b[1m3s\u001b[0m 5ms/step - accuracy: 0.7526 - loss: 0.6343 - val_accuracy: 0.7340 - val_loss: 0.6882\n",
            "Epoch 8/20\n",
            "\u001b[1m313/313\u001b[0m \u001b[32m━━━━━━━━━━━━━━━━━━━━\u001b[0m\u001b[37m\u001b[0m \u001b[1m2s\u001b[0m 4ms/step - accuracy: 0.7771 - loss: 0.5867 - val_accuracy: 0.7400 - val_loss: 0.6547\n",
            "Epoch 9/20\n",
            "\u001b[1m313/313\u001b[0m \u001b[32m━━━━━━━━━━━━━━━━━━━━\u001b[0m\u001b[37m\u001b[0m \u001b[1m1s\u001b[0m 4ms/step - accuracy: 0.7962 - loss: 0.5277 - val_accuracy: 0.7414 - val_loss: 0.6919\n",
            "Epoch 10/20\n",
            "\u001b[1m313/313\u001b[0m \u001b[32m━━━━━━━━━━━━━━━━━━━━\u001b[0m\u001b[37m\u001b[0m \u001b[1m1s\u001b[0m 4ms/step - accuracy: 0.8059 - loss: 0.5080 - val_accuracy: 0.7452 - val_loss: 0.7003\n",
            "Epoch 11/20\n",
            "\u001b[1m313/313\u001b[0m \u001b[32m━━━━━━━━━━━━━━━━━━━━\u001b[0m\u001b[37m\u001b[0m \u001b[1m2s\u001b[0m 7ms/step - accuracy: 0.8224 - loss: 0.4683 - val_accuracy: 0.7462 - val_loss: 0.7279\n",
            "Epoch 12/20\n",
            "\u001b[1m313/313\u001b[0m \u001b[32m━━━━━━━━━━━━━━━━━━━━\u001b[0m\u001b[37m\u001b[0m \u001b[1m3s\u001b[0m 8ms/step - accuracy: 0.8342 - loss: 0.4296 - val_accuracy: 0.7484 - val_loss: 0.6835\n",
            "Epoch 13/20\n",
            "\u001b[1m313/313\u001b[0m \u001b[32m━━━━━━━━━━━━━━━━━━━━\u001b[0m\u001b[37m\u001b[0m \u001b[1m2s\u001b[0m 7ms/step - accuracy: 0.8494 - loss: 0.3915 - val_accuracy: 0.7602 - val_loss: 0.7037\n",
            "Epoch 14/20\n",
            "\u001b[1m313/313\u001b[0m \u001b[32m━━━━━━━━━━━━━━━━━━━━\u001b[0m\u001b[37m\u001b[0m \u001b[1m2s\u001b[0m 5ms/step - accuracy: 0.8684 - loss: 0.3519 - val_accuracy: 0.7532 - val_loss: 0.7403\n",
            "Epoch 15/20\n",
            "\u001b[1m313/313\u001b[0m \u001b[32m━━━━━━━━━━━━━━━━━━━━\u001b[0m\u001b[37m\u001b[0m \u001b[1m1s\u001b[0m 4ms/step - accuracy: 0.8775 - loss: 0.3225 - val_accuracy: 0.7416 - val_loss: 0.8118\n",
            "Epoch 16/20\n",
            "\u001b[1m313/313\u001b[0m \u001b[32m━━━━━━━━━━━━━━━━━━━━\u001b[0m\u001b[37m\u001b[0m \u001b[1m1s\u001b[0m 4ms/step - accuracy: 0.8849 - loss: 0.3062 - val_accuracy: 0.7582 - val_loss: 0.7453\n",
            "Epoch 17/20\n",
            "\u001b[1m313/313\u001b[0m \u001b[32m━━━━━━━━━━━━━━━━━━━━\u001b[0m\u001b[37m\u001b[0m \u001b[1m1s\u001b[0m 4ms/step - accuracy: 0.9026 - loss: 0.2542 - val_accuracy: 0.7502 - val_loss: 0.8042\n",
            "Epoch 18/20\n",
            "\u001b[1m313/313\u001b[0m \u001b[32m━━━━━━━━━━━━━━━━━━━━\u001b[0m\u001b[37m\u001b[0m \u001b[1m2s\u001b[0m 5ms/step - accuracy: 0.9060 - loss: 0.2448 - val_accuracy: 0.7424 - val_loss: 0.8651\n",
            "Epoch 19/20\n",
            "\u001b[1m313/313\u001b[0m \u001b[32m━━━━━━━━━━━━━━━━━━━━\u001b[0m\u001b[37m\u001b[0m \u001b[1m3s\u001b[0m 6ms/step - accuracy: 0.9160 - loss: 0.2196 - val_accuracy: 0.7480 - val_loss: 0.9269\n",
            "Epoch 20/20\n",
            "\u001b[1m313/313\u001b[0m \u001b[32m━━━━━━━━━━━━━━━━━━━━\u001b[0m\u001b[37m\u001b[0m \u001b[1m1s\u001b[0m 4ms/step - accuracy: 0.9278 - loss: 0.1930 - val_accuracy: 0.7548 - val_loss: 0.9570\n",
            "Précision sur l'ensemble de test : 0.75\n",
            "\u001b[1m157/157\u001b[0m \u001b[32m━━━━━━━━━━━━━━━━━━━━\u001b[0m\u001b[37m\u001b[0m \u001b[1m1s\u001b[0m 3ms/step\n",
            "\n",
            "Rapport de classification :\n",
            "              precision    recall  f1-score   support\n",
            "\n",
            "        Bird       0.71      0.80      0.75      1000\n",
            "         Cat       0.65      0.56      0.60      1000\n",
            "         Dog       0.64      0.65      0.65      1000\n",
            "       Horse       0.87      0.79      0.82      1000\n",
            "       Truck       0.87      0.95      0.91      1000\n",
            "\n",
            "    accuracy                           0.75      5000\n",
            "   macro avg       0.75      0.75      0.75      5000\n",
            "weighted avg       0.75      0.75      0.75      5000\n",
            "\n",
            "Exercice 3 - FIN\n"
          ]
        }
      ]
    },
    {
      "cell_type": "markdown",
      "source": [
        "# **Exercice 4 : Large Language Models (GPT) (5 points)**"
      ],
      "metadata": {
        "id": "MN0OnWBoMjwg"
      }
    },
    {
      "cell_type": "markdown",
      "source": [
        "*   Implémentation (4 points) : Utilisez un modèle de langage pré-entraîné (par exemple, GPT-2 ou BERT) pour générer un paragraphe sur les avantages des énergies renouvelables. Implémentez un pipeline de génération de texte en utilisant la bibliothèque Transformers de Hugging Face.\n",
        "*   Analyse des Résultats (1 point) : Interprétez les résultats et discutez des forces et des limites des modèles de langage utilisés"
      ],
      "metadata": {
        "id": "0kmt0YX_cTaY"
      }
    },
    {
      "cell_type": "code",
      "source": [
        "from transformers import pipeline\n",
        "print('Exercice 4 - DEBUT')\n",
        "# TODO\n",
        "print('Exercice 4 - FIN')"
      ],
      "metadata": {
        "id": "xtHkWwouchnu"
      },
      "execution_count": null,
      "outputs": []
    }
  ],
  "metadata": {
    "accelerator": "GPU",
    "colab": {
      "name": "Examen_ML_DL_2.ipynb",
      "provenance": [],
      "include_colab_link": true
    },
    "kernelspec": {
      "display_name": "Python 3",
      "language": "python",
      "name": "python3"
    },
    "language_info": {
      "codemirror_mode": {
        "name": "ipython",
        "version": 3
      },
      "file_extension": ".py",
      "mimetype": "text/x-python",
      "name": "python",
      "nbconvert_exporter": "python",
      "pygments_lexer": "ipython3",
      "version": "3.6.9"
    }
  },
  "nbformat": 4,
  "nbformat_minor": 0
}
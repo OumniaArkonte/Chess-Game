{
  "cells": [
    {
      "cell_type": "markdown",
      "metadata": {
        "id": "view-in-github",
        "colab_type": "text"
      },
      "source": [
        "<a href=\"https://colab.research.google.com/github/OumniaArkonte/Chess-Game/blob/master/Examen_ML_DL_2.ipynb\" target=\"_parent\"><img src=\"https://colab.research.google.com/assets/colab-badge.svg\" alt=\"Open In Colab\"/></a>"
      ]
    },
    {
      "cell_type": "markdown",
      "source": [
        "*   Nom : AIT ARKONTE\n",
        "*   Prénom :Oumnia\n",
        "*   Master : BIBDA\n",
        "\n",
        "# **Consignes**\n",
        "\n",
        "*   Répondez aux exercices puis allez dans \"File\" > \"Download\" > \"Download .ipynb\" pour télécharger l'exam corrigé.\n",
        "*   Renommez le fichier sous format : **Nom_Prenom_Master.ipynb**\n",
        "*   Envoyez le fichier .ipynb par courriel : badouchmohamed@gmail.com"
      ],
      "metadata": {
        "id": "EoVmDv6CQ9qP"
      }
    },
    {
      "cell_type": "markdown",
      "source": [
        "# **Exercice 1 : Régression Linéaire (5 points)**"
      ],
      "metadata": {
        "id": "K4jrVxdRMMoY"
      }
    },
    {
      "cell_type": "markdown",
      "source": [
        "Utilisez le dataset : from keras.datasets import boston_housing\n",
        "\n",
        "*   Implémentation (3 points) : Implémentez un modèle de régression linéaire pour prédire le prix des maisons en fonction de leurs caractéristiques (surface, nombre de chambres, etc.)\n",
        "*   Évaluation des Performances (1 points) : Évaluez les performances du modèle à l'aide de la métrique RMSE (Root Mean Squared Error)\n",
        "*   Analyse des Résultats (1 point) : Interprétez les coefficients du modèle et discutez de leur signification\n"
      ],
      "metadata": {
        "id": "Jawc2zoba39P"
      }
    },
    {
      "cell_type": "code",
      "execution_count": 2,
      "metadata": {
        "ExecuteTime": {
          "end_time": "2020-12-06T15:43:55.554499Z",
          "start_time": "2020-12-06T15:43:55.043211Z"
        },
        "collapsed": true,
        "id": "14h4ejQKFVe9",
        "outputId": "54e002fe-27dd-4c6e-82db-50c9c16a38a0",
        "colab": {
          "base_uri": "https://localhost:8080/"
        }
      },
      "outputs": [
        {
          "output_type": "stream",
          "name": "stdout",
          "text": [
            "Exercice 1 - DEBUT\n",
            "RMSE : 4.82\n",
            "                  Feature  Coefficient\n",
            "8           HighwayAccess     2.908149\n",
            "5                   AvgRM     2.396288\n",
            "1                      ZN     1.353090\n",
            "3               NearRiver     0.994353\n",
            "11   BlackPopulationIndex     0.819551\n",
            "6             BuildingAge     0.211195\n",
            "2            IndustryArea     0.027101\n",
            "0               CrimeRate    -1.107492\n",
            "9                     TAX    -1.957419\n",
            "10    StudentTeacherRatio    -1.982985\n",
            "4               Pollution    -2.401566\n",
            "7      EmploymentDistance    -3.471216\n",
            "12  LowerStatusPercentage    -4.027391\n",
            "\n",
            "Analyse des résultats :\n",
            "  * Caractéristiques avec coefficients positifs augmentent le prix des maisons.\n",
            "  * Caractéristiques avec coefficients négatifs diminuent le prix des maisons.\n",
            "- Un RMSE de 4.82 indique que les prédictions du modèle sont globalement précises.\n",
            "- Les coefficients indiquent l'impact de chaque caractéristique sur le prix des maisons :\n",
            "Exercice 1 - FIN\n"
          ]
        }
      ],
      "source": [
        "from keras.datasets import boston_housing\n",
        "import pandas as pd\n",
        "import numpy as np\n",
        "from sklearn.preprocessing import StandardScaler\n",
        "from sklearn.linear_model import LinearRegression\n",
        "from sklearn.metrics import mean_squared_error\n",
        "print('Exercice 1 - DEBUT')\n",
        "# Charger le dataset\n",
        "(x_train, y_train), (x_test, y_test) = boston_housing.load_data()\n",
        "\n",
        "# Convertir en DataFrame\n",
        "columns = [\n",
        "    \"CrimeRate\", \"ZN\", \"IndustryArea\", \"NearRiver\", \"Pollution\", \"AvgRM\", \"BuildingAge\",\n",
        "    \"EmploymentDistance\", \"HighwayAccess\", \"TAX\", \"StudentTeacherRatio\", \"BlackPopulationIndex\", \"LowerStatusPercentage\"\n",
        "]\n",
        "x_train_df = pd.DataFrame(x_train, columns=columns)\n",
        "x_test_df = pd.DataFrame(x_test, columns=columns)\n",
        "\n",
        "\n",
        "# Normaliser les caractéristiques\n",
        "scaler = StandardScaler()\n",
        "x_train_scaled = scaler.fit_transform(x_train)\n",
        "x_test_scaled = scaler.transform(x_test)\n",
        "\n",
        "\n",
        "# Créer et entraîner le modèle\n",
        "model = LinearRegression()\n",
        "model.fit(x_train_scaled, y_train)\n",
        "\n",
        "# Prédictions\n",
        "y_pred = model.predict(x_test_scaled)\n",
        "\n",
        "# RMSE\n",
        "rmse = np.sqrt(mean_squared_error(y_test, y_pred))\n",
        "print(f\"RMSE : {rmse:.2f}\")\n",
        "\n",
        "# Coefficients du modèle\n",
        "coefficients = pd.DataFrame({\n",
        "    \"Feature\": columns,\n",
        "    \"Coefficient\": model.coef_\n",
        "})\n",
        "\n",
        "# Tri des coefficients par ordre décroissant\n",
        "coefficients = coefficients.sort_values(by=\"Coefficient\", ascending=False)\n",
        "print(coefficients)\n",
        "\n",
        "\n",
        "# Analyse des résultats\n",
        "print(\"\\nAnalyse des résultats :\")\n",
        "print(\"  * Caractéristiques avec coefficients positifs augmentent le prix des maisons.\")\n",
        "print(\"  * Caractéristiques avec coefficients négatifs diminuent le prix des maisons.\")\n",
        "print(\"- Un RMSE de {:.2f} indique que les prédictions du modèle sont globalement précises.\".format(rmse))\n",
        "print(\"- Les coefficients indiquent l'impact de chaque caractéristique sur le prix des maisons :\")\n",
        "print('Exercice 1 - FIN')"
      ]
    },
    {
      "cell_type": "markdown",
      "source": [
        "# **Exercice 2 : Classification des Fleurs d'Iris avec un Réseau de Neurones (5 points)**"
      ],
      "metadata": {
        "id": "p3EFR0zlMYGh"
      }
    },
    {
      "cell_type": "markdown",
      "source": [
        "Utilisez le dataset : from keras.datasets import boston_housing\n",
        "\n",
        "*   Implémentation d'un Réseau de Neurones Simple (2 points) : Créez et entraînez un réseau de neurones simple pour classer les fleurs d'iris.\n",
        "*   Implémentation d'un Réseau de Neurones Complexe (2 points) : Créez et entraînez un réseau de neurones plus complexe (ajout de couches supplémentaires).\n",
        "*   Comparaison des Performances (1 points) : Comparez les performances des deux modèles en utilisant la précision et la F1-score."
      ],
      "metadata": {
        "id": "igpCLy8_bjjD"
      }
    },
    {
      "cell_type": "code",
      "source": [
        "from sklearn.datasets import load_iris\n",
        "from sklearn.model_selection import train_test_split\n",
        "from sklearn.preprocessing import OneHotEncoder, StandardScaler\n",
        "import numpy as np\n",
        "from tensorflow.keras.models import Sequential\n",
        "from tensorflow.keras.layers import Dense\n",
        "from tensorflow.keras.optimizers import Adam\n",
        "from sklearn.metrics import classification_report, f1_score, accuracy_score\n",
        "print('Exercice 2 - DEBUT')\n",
        "# Charger le dataset Iris\n",
        "iris = load_iris()\n",
        "X = iris.data\n",
        "y = iris.target\n",
        "\n",
        "# Normaliser les caractéristiques\n",
        "scaler = StandardScaler()\n",
        "X = scaler.fit_transform(X)\n",
        "\n",
        "# One-hot encoding pour les labels\n",
        "encoder = OneHotEncoder(sparse_output=False)\n",
        "y = encoder.fit_transform(y.reshape(-1, 1))\n",
        "\n",
        "# Diviser les données en train/test\n",
        "X_train, X_test, y_train, y_test = train_test_split(X, y, test_size=0.2, random_state=42)\n",
        "\n",
        "\n",
        "#  modèle simple\n",
        "model_simple = Sequential([\n",
        "    Dense(10, activation='relu', input_shape=(X_train.shape[1],)),\n",
        "    Dense(3, activation='softmax')  # 3 classes pour les fleurs d'Iris\n",
        "])\n",
        "\n",
        "# Compiler le modèle\n",
        "model_simple.compile(optimizer=Adam(learning_rate=0.01),\n",
        "                     loss='categorical_crossentropy',\n",
        "                     metrics=['accuracy'])\n",
        "\n",
        "# Entraîner le modèle\n",
        "history_simple = model_simple.fit(X_train, y_train, epochs=50, batch_size=10, verbose=0, validation_split=0.2)\n",
        "\n",
        "\n",
        "# Créer un modèle complexe avec des couches supplémentaires et régularisation\n",
        "model_complex = Sequential([\n",
        "    Dense(64, activation='relu', input_shape=(X_train.shape[1],)),\n",
        "    Dense(32, activation='relu'),\n",
        "    Dense(16, activation='relu'),\n",
        "    Dense(3, activation='softmax')\n",
        "])\n",
        "\n",
        "# Compiler le modèle\n",
        "model_complex.compile(optimizer=Adam(learning_rate=0.01),\n",
        "                      loss='categorical_crossentropy',\n",
        "                      metrics=['accuracy'])\n",
        "\n",
        "# Entraîner le modèle\n",
        "history_complex = model_complex.fit(X_train, y_train, epochs=50, batch_size=10, verbose=0, validation_split=0.2)\n",
        "\n",
        "\n",
        "\n",
        "# Prédictions pour chaque modèle\n",
        "y_pred_simple = np.argmax(model_simple.predict(X_test), axis=1)\n",
        "y_pred_complex = np.argmax(model_complex.predict(X_test), axis=1)\n",
        "y_test_labels = np.argmax(y_test, axis=1)\n",
        "\n",
        "# Performance du modèle simple\n",
        "print(\"Modèle Simple\")\n",
        "print(classification_report(y_test_labels, y_pred_simple))\n",
        "\n",
        "# Performance du modèle complexe\n",
        "print(\"\\nModèle Complexe\")\n",
        "print(classification_report(y_test_labels, y_pred_complex))\n",
        "\n",
        "# Comparaison des scores\n",
        "accuracy_simple = accuracy_score(y_test_labels, y_pred_simple)\n",
        "accuracy_complex = accuracy_score(y_test_labels, y_pred_complex)\n",
        "f1_simple = f1_score(y_test_labels, y_pred_simple, average='weighted')\n",
        "f1_complex = f1_score(y_test_labels, y_pred_complex, average='weighted')\n",
        "\n",
        "print(f\"\\nComparaison des modèles :\")\n",
        "print(f\"Précision - Modèle Simple : {accuracy_simple:.2f}, Modèle Complexe : {accuracy_complex:.2f}\")\n",
        "print(f\"F1-Score - Modèle Simple : {f1_simple:.2f}, Modèle Complexe : {f1_complex:.2f}\")\n",
        "\n",
        "\n",
        "print('Exercice 2 - FIN')"
      ],
      "metadata": {
        "id": "9Kl9D6rEb8hB",
        "outputId": "f53bb7e3-b4bd-47a4-b730-e773178c0566",
        "colab": {
          "base_uri": "https://localhost:8080/"
        }
      },
      "execution_count": 4,
      "outputs": [
        {
          "output_type": "stream",
          "name": "stdout",
          "text": [
            "Exercice 2 - DEBUT\n"
          ]
        },
        {
          "output_type": "stream",
          "name": "stderr",
          "text": [
            "/usr/local/lib/python3.10/dist-packages/keras/src/layers/core/dense.py:87: UserWarning: Do not pass an `input_shape`/`input_dim` argument to a layer. When using Sequential models, prefer using an `Input(shape)` object as the first layer in the model instead.\n",
            "  super().__init__(activity_regularizer=activity_regularizer, **kwargs)\n"
          ]
        },
        {
          "output_type": "stream",
          "name": "stdout",
          "text": [
            "\u001b[1m1/1\u001b[0m \u001b[32m━━━━━━━━━━━━━━━━━━━━\u001b[0m\u001b[37m\u001b[0m \u001b[1m0s\u001b[0m 214ms/step\n",
            "\u001b[1m1/1\u001b[0m \u001b[32m━━━━━━━━━━━━━━━━━━━━\u001b[0m\u001b[37m\u001b[0m \u001b[1m0s\u001b[0m 342ms/step\n",
            "Modèle Simple\n",
            "              precision    recall  f1-score   support\n",
            "\n",
            "           0       1.00      1.00      1.00        10\n",
            "           1       1.00      0.89      0.94         9\n",
            "           2       0.92      1.00      0.96        11\n",
            "\n",
            "    accuracy                           0.97        30\n",
            "   macro avg       0.97      0.96      0.97        30\n",
            "weighted avg       0.97      0.97      0.97        30\n",
            "\n",
            "\n",
            "Modèle Complexe\n",
            "              precision    recall  f1-score   support\n",
            "\n",
            "           0       1.00      1.00      1.00        10\n",
            "           1       1.00      1.00      1.00         9\n",
            "           2       1.00      1.00      1.00        11\n",
            "\n",
            "    accuracy                           1.00        30\n",
            "   macro avg       1.00      1.00      1.00        30\n",
            "weighted avg       1.00      1.00      1.00        30\n",
            "\n",
            "\n",
            "Comparaison des modèles :\n",
            "Précision - Modèle Simple : 0.97, Modèle Complexe : 1.00\n",
            "F1-Score - Modèle Simple : 0.97, Modèle Complexe : 1.00\n",
            "Exercice 2 - FIN\n"
          ]
        }
      ]
    },
    {
      "cell_type": "markdown",
      "source": [
        "# **Exercice 3 : Réseau de Neurones Convolutionnel (CNN) (5 points)**"
      ],
      "metadata": {
        "id": "gwnQyqgeMfSc"
      }
    },
    {
      "cell_type": "markdown",
      "source": [
        "Utilisez le dataset CIFAR10 : from keras.datasets import cifar10\n",
        "\n",
        "*   Implémentation (4 points) : Implémentez un réseau de neurones convolutionnel (CNN) pour classer des images de différentes catégories. Utilisez un ensemble de données d'images approprié (CIFAR-10).\n",
        "*   Évaluation des Performances (1 points) : Évaluez les performances du modèle en utilisant la précision globale sur l'ensemble de test."
      ],
      "metadata": {
        "id": "7VRt8Vacb_pA"
      }
    },
    {
      "cell_type": "code",
      "source": [
        "from keras.datasets import cifar10\n",
        "print('Exercice 3 - DEBUT')\n",
        "# TODO\n",
        "print('Exercice 3 - FIN')"
      ],
      "metadata": {
        "id": "3DEm1-4ScQQJ"
      },
      "execution_count": null,
      "outputs": []
    },
    {
      "cell_type": "markdown",
      "source": [
        "# **Exercice 4 : Large Language Models (GPT) (5 points)**"
      ],
      "metadata": {
        "id": "MN0OnWBoMjwg"
      }
    },
    {
      "cell_type": "markdown",
      "source": [
        "*   Implémentation (4 points) : Utilisez un modèle de langage pré-entraîné (par exemple, GPT-2 ou BERT) pour générer un paragraphe sur les avantages des énergies renouvelables. Implémentez un pipeline de génération de texte en utilisant la bibliothèque Transformers de Hugging Face.\n",
        "*   Analyse des Résultats (1 point) : Interprétez les résultats et discutez des forces et des limites des modèles de langage utilisés"
      ],
      "metadata": {
        "id": "0kmt0YX_cTaY"
      }
    },
    {
      "cell_type": "code",
      "source": [
        "from transformers import pipeline\n",
        "print('Exercice 4 - DEBUT')\n",
        "# TODO\n",
        "print('Exercice 4 - FIN')"
      ],
      "metadata": {
        "id": "xtHkWwouchnu"
      },
      "execution_count": null,
      "outputs": []
    }
  ],
  "metadata": {
    "accelerator": "GPU",
    "colab": {
      "name": "Examen_ML_DL_2.ipynb",
      "provenance": [],
      "include_colab_link": true
    },
    "kernelspec": {
      "display_name": "Python 3",
      "language": "python",
      "name": "python3"
    },
    "language_info": {
      "codemirror_mode": {
        "name": "ipython",
        "version": 3
      },
      "file_extension": ".py",
      "mimetype": "text/x-python",
      "name": "python",
      "nbconvert_exporter": "python",
      "pygments_lexer": "ipython3",
      "version": "3.6.9"
    }
  },
  "nbformat": 4,
  "nbformat_minor": 0
}